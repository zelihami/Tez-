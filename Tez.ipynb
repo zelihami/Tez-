{
  "nbformat": 4,
  "nbformat_minor": 0,
  "metadata": {
    "colab": {
      "provenance": [],
      "mount_file_id": "1zHYmE_IxDV01OXlqZEF6JLHGmsFJ2CwB",
      "authorship_tag": "ABX9TyPx+oeVdb7/7v7lrP+DgARH",
      "include_colab_link": true
    },
    "kernelspec": {
      "name": "python3",
      "display_name": "Python 3"
    },
    "language_info": {
      "name": "python"
    }
  },
  "cells": [
    {
      "cell_type": "markdown",
      "metadata": {
        "id": "view-in-github",
        "colab_type": "text"
      },
      "source": [
        "<a href=\"https://colab.research.google.com/github/zelihami/Tez-/blob/main/Tez.ipynb\" target=\"_parent\"><img src=\"https://colab.research.google.com/assets/colab-badge.svg\" alt=\"Open In Colab\"/></a>"
      ]
    },
    {
      "cell_type": "code",
      "execution_count": 2,
      "metadata": {
        "colab": {
          "base_uri": "https://localhost:8080/"
        },
        "id": "pNO_OZmeVV0b",
        "outputId": "9ddd710c-5884-4dff-945c-bdf6340d6e1e"
      },
      "outputs": [
        {
          "output_type": "stream",
          "name": "stdout",
          "text": [
            "Collecting pydicom\n",
            "  Downloading pydicom-2.4.3-py3-none-any.whl (1.8 MB)\n",
            "\u001b[2K     \u001b[90m━━━━━━━━━━━━━━━━━━━━━━━━━━━━━━━━━━━━━━━━\u001b[0m \u001b[32m1.8/1.8 MB\u001b[0m \u001b[31m7.3 MB/s\u001b[0m eta \u001b[36m0:00:00\u001b[0m\n",
            "\u001b[?25hInstalling collected packages: pydicom\n",
            "Successfully installed pydicom-2.4.3\n"
          ]
        }
      ],
      "source": [
        "pip install pydicom\n"
      ]
    },
    {
      "cell_type": "code",
      "source": [
        "import pydicom"
      ],
      "metadata": {
        "id": "p4oIiIsC53Tu"
      },
      "execution_count": 3,
      "outputs": []
    },
    {
      "cell_type": "code",
      "source": [
        "from pydicom import dcmread"
      ],
      "metadata": {
        "id": "lR_SeJaR6Hzu"
      },
      "execution_count": 4,
      "outputs": []
    },
    {
      "cell_type": "code",
      "source": [],
      "metadata": {
        "id": "1jDk0ejN-Hrz"
      },
      "execution_count": null,
      "outputs": []
    },
    {
      "cell_type": "code",
      "source": [
        "def get_patinet_name(path):\n",
        "  ds=dcmread(path)\n",
        "  return ds.PatientName\n",
        "\n"
      ],
      "metadata": {
        "id": "tpc6cS8z6a2k"
      },
      "execution_count": 11,
      "outputs": []
    },
    {
      "cell_type": "code",
      "source": [
        "ds=dcmread(\"/content/576AC36E/1.3.12.2.1107.5.2.46.174771.2023060113125181095350873\")"
      ],
      "metadata": {
        "id": "v5sXPioRL0lR"
      },
      "execution_count": 27,
      "outputs": []
    },
    {
      "cell_type": "code",
      "source": [
        "import os"
      ],
      "metadata": {
        "id": "Ode5LJoP6gXy"
      },
      "execution_count": 14,
      "outputs": []
    },
    {
      "cell_type": "code",
      "source": [
        "def get_patinet_name(path):\n",
        "  ds=dcmread(path)\n",
        "  return ds.PatientName"
      ],
      "metadata": {
        "id": "IT5wi19Pj0En"
      },
      "execution_count": 123,
      "outputs": []
    },
    {
      "cell_type": "code",
      "source": [
        "\n",
        "def bul(isim):\n",
        "  for klasör in os.listdir(os.getcwd()):\n",
        "    if  \".\" in klasör:\n",
        "      continue\n",
        "    else:\n",
        "      for i in os.listdir(klasör):\n",
        "        if \".\" in i:\n",
        "          pass\n",
        "        else:\n",
        "          datam = os.listdir(os.getcwd()+\"/\"+klasör+\"/\"+i+\"/\")\n",
        "          for name in datam:\n",
        "            if(isim=get_patinet_name(os.getcwd()+\"/\"+klasör+\"/\"+i+\"/\"+name)):\n",
        ""
      ],
      "metadata": {
        "colab": {
          "base_uri": "https://localhost:8080/"
        },
        "id": "qjyRp7NBOm6B",
        "outputId": "f3591248-4af0-4c6e-ffa3-64cc2268ca2e"
      },
      "execution_count": 136,
      "outputs": [
        {
          "output_type": "stream",
          "name": "stdout",
          "text": [
            "HALIL IBRAHIM KIRAN\n",
            "HALIL IBRAHIM KIRAN\n",
            "HALIL IBRAHIM KIRAN\n",
            "HALIL IBRAHIM KIRAN\n",
            "HALIL IBRAHIM KIRAN\n",
            "HALIL IBRAHIM KIRAN\n",
            "HALIL IBRAHIM KIRAN\n",
            "HALIL IBRAHIM KIRAN\n",
            "HALIL IBRAHIM KIRAN\n",
            "HALIL IBRAHIM KIRAN\n",
            "HALIL IBRAHIM KIRAN\n",
            "HALIL IBRAHIM KIRAN\n",
            "HALIL IBRAHIM KIRAN\n",
            "HALIL IBRAHIM KIRAN\n",
            "HALIL IBRAHIM KIRAN\n",
            "HALIL IBRAHIM KIRAN\n",
            "HALIL IBRAHIM KIRAN\n",
            "HALIL IBRAHIM KIRAN\n",
            "HALIL IBRAHIM KIRAN\n",
            "HALIL IBRAHIM KIRAN\n",
            "HALIL IBRAHIM KIRAN\n",
            "HALIL IBRAHIM KIRAN\n",
            "HALIL IBRAHIM KIRAN\n",
            "HALIL IBRAHIM KIRAN\n",
            "HALIL IBRAHIM KIRAN\n",
            "HALIL IBRAHIM KIRAN\n",
            "HALIL IBRAHIM KIRAN\n",
            "HALIL IBRAHIM KIRAN\n",
            "HALIL IBRAHIM KIRAN\n",
            "HALIL IBRAHIM KIRAN\n",
            "HALIL IBRAHIM KIRAN\n",
            "HALIL IBRAHIM KIRAN\n",
            "HALIL IBRAHIM KIRAN\n",
            "HALIL IBRAHIM KIRAN\n",
            "HALIL IBRAHIM KIRAN\n",
            "HALIL IBRAHIM KIRAN\n",
            "HALIL IBRAHIM KIRAN\n",
            "HALIL IBRAHIM KIRAN\n",
            "HALIL IBRAHIM KIRAN\n",
            "HALIL IBRAHIM KIRAN\n",
            "HALIL IBRAHIM KIRAN\n",
            "HALIL IBRAHIM KIRAN\n",
            "HALIL IBRAHIM KIRAN\n",
            "HALIL IBRAHIM KIRAN\n",
            "HALIL IBRAHIM KIRAN\n",
            "HALIL IBRAHIM KIRAN\n",
            "HALIL IBRAHIM KIRAN\n",
            "HALIL IBRAHIM KIRAN\n",
            "HALIL IBRAHIM KIRAN\n",
            "HALIL IBRAHIM KIRAN\n",
            "HALIL IBRAHIM KIRAN\n",
            "HALIL IBRAHIM KIRAN\n",
            "HALIL IBRAHIM KIRAN\n",
            "HALIL IBRAHIM KIRAN\n",
            "HALIL IBRAHIM KIRAN\n",
            "HALIL IBRAHIM KIRAN\n",
            "HALIL IBRAHIM KIRAN\n",
            "HALIL IBRAHIM KIRAN\n",
            "HALIL IBRAHIM KIRAN\n",
            "HALIL IBRAHIM KIRAN\n",
            "HALIL IBRAHIM KIRAN\n",
            "HALIL IBRAHIM KIRAN\n",
            "HALIL IBRAHIM KIRAN\n",
            "HALIL IBRAHIM KIRAN\n",
            "HALIL IBRAHIM KIRAN\n",
            "HALIL IBRAHIM KIRAN\n",
            "HALIL IBRAHIM KIRAN\n",
            "HALIL IBRAHIM KIRAN\n",
            "HALIL IBRAHIM KIRAN\n",
            "HALIL IBRAHIM KIRAN\n",
            "HALIL IBRAHIM KIRAN\n",
            "HALIL IBRAHIM KIRAN\n",
            "HALIL IBRAHIM KIRAN\n",
            "HALIL IBRAHIM KIRAN\n",
            "HALIL IBRAHIM KIRAN\n",
            "HALIL IBRAHIM KIRAN\n",
            "HALIL IBRAHIM KIRAN\n",
            "HALIL IBRAHIM KIRAN\n",
            "HALIL IBRAHIM KIRAN\n",
            "HALIL IBRAHIM KIRAN\n",
            "HALIL IBRAHIM KIRAN\n",
            "HALIL IBRAHIM KIRAN\n",
            "HALIL IBRAHIM KIRAN\n",
            "HALIL IBRAHIM KIRAN\n",
            "HALIL IBRAHIM KIRAN\n",
            "HALIL IBRAHIM KIRAN\n",
            "HALIL IBRAHIM KIRAN\n",
            "HALIL IBRAHIM KIRAN\n",
            "HALIL IBRAHIM KIRAN\n",
            "HALIL IBRAHIM KIRAN\n",
            "HALIL IBRAHIM KIRAN\n",
            "HALIL IBRAHIM KIRAN\n",
            "HALIL IBRAHIM KIRAN\n",
            "HALIL IBRAHIM KIRAN\n",
            "HALIL IBRAHIM KIRAN\n",
            "HALIL IBRAHIM KIRAN\n",
            "HALIL IBRAHIM KIRAN\n",
            "HALIL IBRAHIM KIRAN\n",
            "HALIL IBRAHIM KIRAN\n",
            "HALIL IBRAHIM KIRAN\n",
            "HALIL IBRAHIM KIRAN\n",
            "HALIL IBRAHIM KIRAN\n",
            "HALIL IBRAHIM KIRAN\n",
            "HALIL IBRAHIM KIRAN\n",
            "HALIL IBRAHIM KIRAN\n",
            "HALIL IBRAHIM KIRAN\n",
            "HALIL IBRAHIM KIRAN\n",
            "HALIL IBRAHIM KIRAN\n",
            "HALIL IBRAHIM KIRAN\n",
            "HALIL IBRAHIM KIRAN\n",
            "HALIL IBRAHIM KIRAN\n",
            "HALIL IBRAHIM KIRAN\n",
            "HALIL IBRAHIM KIRAN\n",
            "HALIL IBRAHIM KIRAN\n",
            "HALIL IBRAHIM KIRAN\n",
            "HALIL IBRAHIM KIRAN\n",
            "HALIL IBRAHIM KIRAN\n",
            "HALIL IBRAHIM KIRAN\n",
            "HALIL IBRAHIM KIRAN\n"
          ]
        }
      ]
    },
    {
      "cell_type": "code",
      "source": [],
      "metadata": {
        "id": "JJ-VDKYurA97"
      },
      "execution_count": null,
      "outputs": []
    }
  ]
}